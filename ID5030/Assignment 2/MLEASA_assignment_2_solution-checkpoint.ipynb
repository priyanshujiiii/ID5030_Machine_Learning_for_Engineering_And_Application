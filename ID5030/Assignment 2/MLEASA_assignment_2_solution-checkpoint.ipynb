{
 "cells": [
  {
   "cell_type": "markdown",
   "metadata": {
    "id": "Bn8YMDsyJSc4"
   },
   "source": [
    "#Week 2 assignment solution"
   ]
  },
  {
   "cell_type": "markdown",
   "metadata": {
    "id": "P9U9_HsTsHiG"
   },
   "source": [
    "*\n",
    "**Question-1**\n",
    "\n",
    "Solving the Linear Regression Problem using Normal Equations Method"
   ]
  },
  {
   "cell_type": "code",
   "execution_count": null,
   "metadata": {
    "colab": {
     "base_uri": "https://localhost:8080/"
    },
    "id": "NUKgaX9or14J",
    "outputId": "4a56d06f-2733-43f3-cec9-125fe7e21eca"
   },
   "outputs": [
    {
     "name": "stdout",
     "output_type": "stream",
     "text": [
      "Mounted at /content/gdrive\n"
     ]
    }
   ],
   "source": [
    "# mount the data into google drive \n",
    "from google.colab import drive\n",
    "drive.mount('/content/gdrive')"
   ]
  },
  {
   "cell_type": "markdown",
   "metadata": {
    "id": "XxO2nTBCDkpi"
   },
   "source": [
    "Importing Various Packages required"
   ]
  },
  {
   "cell_type": "code",
   "execution_count": null,
   "metadata": {
    "id": "-Xf0z7AgstPI"
   },
   "outputs": [],
   "source": [
    "import numpy as np \n",
    "import pandas as pd \n",
    "import matplotlib.pyplot as plt      \n",
    "%matplotlib inline \n",
    "import seaborn as sns"
   ]
  },
  {
   "cell_type": "markdown",
   "metadata": {
    "id": "G5OW80HpDs-t"
   },
   "source": [
    "Reading the data from the \"Concrete_Data.xls\" file using the pandas library"
   ]
  },
  {
   "cell_type": "code",
   "execution_count": null,
   "metadata": {
    "id": "etjeEvk-s9Gn"
   },
   "outputs": [],
   "source": [
    "df=pd.read_excel('/content/gdrive/MyDrive/Machine learning for engineering for science application./Concrete_Data.xls')"
   ]
  },
  {
   "cell_type": "markdown",
   "metadata": {
    "id": "LVAnSU7-KnTI"
   },
   "source": [
    "**Breaf intoductuion about data**\n",
    "\n",
    "Data Set Information:\n",
    "\n",
    "Number of instances 1030\n",
    "\n",
    "Number of Attributes 9\n",
    "\n",
    "Attribute breakdown 8 quantitative input variables, and 1 quantitative output variable\n",
    "\n",
    "Missing Attribute Values None"
   ]
  },
  {
   "cell_type": "markdown",
   "metadata": {
    "id": "iu75tql2KouP"
   },
   "source": [
    "**Input variable (Indenpendent variable)** \n",
    "\n",
    "*   Cement (kg in a m3 mixture) \n",
    "*   Blast Furnace Slag (kg in a m3 mixture)\n",
    "*   Fly Ash \n",
    "*   Water\n",
    "*   Superplasticizer\n",
    "*   Coarse Aggregate\n",
    "*   Fine Aggregate\n",
    "*   Age\n",
    "\n",
    "**Target Variable (Dependent variable)**\n",
    "\n",
    "\n",
    "*   Concrete compressive strength\n"
   ]
  },
  {
   "cell_type": "markdown",
   "metadata": {
    "id": "bWO1qlX7KwLY"
   },
   "source": [
    "*Overview of the Model**\n",
    "\n",
    "*   NULL/MISSING values\n",
    "*   Checking the duplicate values\n",
    "*   Creating Dummy Variables\n",
    "*   Spliting the data into 3 part( train ,test, validation)\n",
    "*   Building the linear model"
   ]
  },
  {
   "cell_type": "markdown",
   "metadata": {
    "id": "KpMl3YVVD6gC"
   },
   "source": [
    "**Data Cleaning and Data Analysis**"
   ]
  },
  {
   "cell_type": "code",
   "execution_count": null,
   "metadata": {
    "colab": {
     "base_uri": "https://localhost:8080/"
    },
    "id": "bsCNy7rxtTIt",
    "outputId": "38253826-2c1e-4d38-b360-671da41c7112"
   },
   "outputs": [
    {
     "data": {
      "text/plain": [
       "(1030, 9)"
      ]
     },
     "execution_count": 8,
     "metadata": {},
     "output_type": "execute_result"
    }
   ],
   "source": [
    "df.shape"
   ]
  },
  {
   "cell_type": "code",
   "execution_count": null,
   "metadata": {
    "colab": {
     "base_uri": "https://localhost:8080/",
     "height": 302
    },
    "id": "MH7dVVB_tXeh",
    "outputId": "e8f75fda-fe7e-4716-aa4d-862a1f2843ee"
   },
   "outputs": [
    {
     "data": {
      "text/html": [
       "\n",
       "  <div id=\"df-ea64ad1d-ffb8-4649-babb-72f1ae6f8d2a\">\n",
       "    <div class=\"colab-df-container\">\n",
       "      <div>\n",
       "<style scoped>\n",
       "    .dataframe tbody tr th:only-of-type {\n",
       "        vertical-align: middle;\n",
       "    }\n",
       "\n",
       "    .dataframe tbody tr th {\n",
       "        vertical-align: top;\n",
       "    }\n",
       "\n",
       "    .dataframe thead th {\n",
       "        text-align: right;\n",
       "    }\n",
       "</style>\n",
       "<table border=\"1\" class=\"dataframe\">\n",
       "  <thead>\n",
       "    <tr style=\"text-align: right;\">\n",
       "      <th></th>\n",
       "      <th>Cement (component 1)(kg in a m^3 mixture)</th>\n",
       "      <th>Blast Furnace Slag (component 2)(kg in a m^3 mixture)</th>\n",
       "      <th>Fly Ash (component 3)(kg in a m^3 mixture)</th>\n",
       "      <th>Water  (component 4)(kg in a m^3 mixture)</th>\n",
       "      <th>Superplasticizer (component 5)(kg in a m^3 mixture)</th>\n",
       "      <th>Coarse Aggregate  (component 6)(kg in a m^3 mixture)</th>\n",
       "      <th>Fine Aggregate (component 7)(kg in a m^3 mixture)</th>\n",
       "      <th>Age (day)</th>\n",
       "      <th>Concrete compressive strength(MPa, megapascals)</th>\n",
       "    </tr>\n",
       "  </thead>\n",
       "  <tbody>\n",
       "    <tr>\n",
       "      <th>0</th>\n",
       "      <td>540.0</td>\n",
       "      <td>0.0</td>\n",
       "      <td>0.0</td>\n",
       "      <td>162.0</td>\n",
       "      <td>2.5</td>\n",
       "      <td>1040.0</td>\n",
       "      <td>676.0</td>\n",
       "      <td>28</td>\n",
       "      <td>79.986111</td>\n",
       "    </tr>\n",
       "    <tr>\n",
       "      <th>1</th>\n",
       "      <td>540.0</td>\n",
       "      <td>0.0</td>\n",
       "      <td>0.0</td>\n",
       "      <td>162.0</td>\n",
       "      <td>2.5</td>\n",
       "      <td>1055.0</td>\n",
       "      <td>676.0</td>\n",
       "      <td>28</td>\n",
       "      <td>61.887366</td>\n",
       "    </tr>\n",
       "    <tr>\n",
       "      <th>2</th>\n",
       "      <td>332.5</td>\n",
       "      <td>142.5</td>\n",
       "      <td>0.0</td>\n",
       "      <td>228.0</td>\n",
       "      <td>0.0</td>\n",
       "      <td>932.0</td>\n",
       "      <td>594.0</td>\n",
       "      <td>270</td>\n",
       "      <td>40.269535</td>\n",
       "    </tr>\n",
       "    <tr>\n",
       "      <th>3</th>\n",
       "      <td>332.5</td>\n",
       "      <td>142.5</td>\n",
       "      <td>0.0</td>\n",
       "      <td>228.0</td>\n",
       "      <td>0.0</td>\n",
       "      <td>932.0</td>\n",
       "      <td>594.0</td>\n",
       "      <td>365</td>\n",
       "      <td>41.052780</td>\n",
       "    </tr>\n",
       "    <tr>\n",
       "      <th>4</th>\n",
       "      <td>198.6</td>\n",
       "      <td>132.4</td>\n",
       "      <td>0.0</td>\n",
       "      <td>192.0</td>\n",
       "      <td>0.0</td>\n",
       "      <td>978.4</td>\n",
       "      <td>825.5</td>\n",
       "      <td>360</td>\n",
       "      <td>44.296075</td>\n",
       "    </tr>\n",
       "  </tbody>\n",
       "</table>\n",
       "</div>\n",
       "      <button class=\"colab-df-convert\" onclick=\"convertToInteractive('df-ea64ad1d-ffb8-4649-babb-72f1ae6f8d2a')\"\n",
       "              title=\"Convert this dataframe to an interactive table.\"\n",
       "              style=\"display:none;\">\n",
       "        \n",
       "  <svg xmlns=\"http://www.w3.org/2000/svg\" height=\"24px\"viewBox=\"0 0 24 24\"\n",
       "       width=\"24px\">\n",
       "    <path d=\"M0 0h24v24H0V0z\" fill=\"none\"/>\n",
       "    <path d=\"M18.56 5.44l.94 2.06.94-2.06 2.06-.94-2.06-.94-.94-2.06-.94 2.06-2.06.94zm-11 1L8.5 8.5l.94-2.06 2.06-.94-2.06-.94L8.5 2.5l-.94 2.06-2.06.94zm10 10l.94 2.06.94-2.06 2.06-.94-2.06-.94-.94-2.06-.94 2.06-2.06.94z\"/><path d=\"M17.41 7.96l-1.37-1.37c-.4-.4-.92-.59-1.43-.59-.52 0-1.04.2-1.43.59L10.3 9.45l-7.72 7.72c-.78.78-.78 2.05 0 2.83L4 21.41c.39.39.9.59 1.41.59.51 0 1.02-.2 1.41-.59l7.78-7.78 2.81-2.81c.8-.78.8-2.07 0-2.86zM5.41 20L4 18.59l7.72-7.72 1.47 1.35L5.41 20z\"/>\n",
       "  </svg>\n",
       "      </button>\n",
       "      \n",
       "  <style>\n",
       "    .colab-df-container {\n",
       "      display:flex;\n",
       "      flex-wrap:wrap;\n",
       "      gap: 12px;\n",
       "    }\n",
       "\n",
       "    .colab-df-convert {\n",
       "      background-color: #E8F0FE;\n",
       "      border: none;\n",
       "      border-radius: 50%;\n",
       "      cursor: pointer;\n",
       "      display: none;\n",
       "      fill: #1967D2;\n",
       "      height: 32px;\n",
       "      padding: 0 0 0 0;\n",
       "      width: 32px;\n",
       "    }\n",
       "\n",
       "    .colab-df-convert:hover {\n",
       "      background-color: #E2EBFA;\n",
       "      box-shadow: 0px 1px 2px rgba(60, 64, 67, 0.3), 0px 1px 3px 1px rgba(60, 64, 67, 0.15);\n",
       "      fill: #174EA6;\n",
       "    }\n",
       "\n",
       "    [theme=dark] .colab-df-convert {\n",
       "      background-color: #3B4455;\n",
       "      fill: #D2E3FC;\n",
       "    }\n",
       "\n",
       "    [theme=dark] .colab-df-convert:hover {\n",
       "      background-color: #434B5C;\n",
       "      box-shadow: 0px 1px 3px 1px rgba(0, 0, 0, 0.15);\n",
       "      filter: drop-shadow(0px 1px 2px rgba(0, 0, 0, 0.3));\n",
       "      fill: #FFFFFF;\n",
       "    }\n",
       "  </style>\n",
       "\n",
       "      <script>\n",
       "        const buttonEl =\n",
       "          document.querySelector('#df-ea64ad1d-ffb8-4649-babb-72f1ae6f8d2a button.colab-df-convert');\n",
       "        buttonEl.style.display =\n",
       "          google.colab.kernel.accessAllowed ? 'block' : 'none';\n",
       "\n",
       "        async function convertToInteractive(key) {\n",
       "          const element = document.querySelector('#df-ea64ad1d-ffb8-4649-babb-72f1ae6f8d2a');\n",
       "          const dataTable =\n",
       "            await google.colab.kernel.invokeFunction('convertToInteractive',\n",
       "                                                     [key], {});\n",
       "          if (!dataTable) return;\n",
       "\n",
       "          const docLinkHtml = 'Like what you see? Visit the ' +\n",
       "            '<a target=\"_blank\" href=https://colab.research.google.com/notebooks/data_table.ipynb>data table notebook</a>'\n",
       "            + ' to learn more about interactive tables.';\n",
       "          element.innerHTML = '';\n",
       "          dataTable['output_type'] = 'display_data';\n",
       "          await google.colab.output.renderOutput(dataTable, element);\n",
       "          const docLink = document.createElement('div');\n",
       "          docLink.innerHTML = docLinkHtml;\n",
       "          element.appendChild(docLink);\n",
       "        }\n",
       "      </script>\n",
       "    </div>\n",
       "  </div>\n",
       "  "
      ],
      "text/plain": [
       "   Cement (component 1)(kg in a m^3 mixture)  \\\n",
       "0                                      540.0   \n",
       "1                                      540.0   \n",
       "2                                      332.5   \n",
       "3                                      332.5   \n",
       "4                                      198.6   \n",
       "\n",
       "   Blast Furnace Slag (component 2)(kg in a m^3 mixture)  \\\n",
       "0                                                0.0       \n",
       "1                                                0.0       \n",
       "2                                              142.5       \n",
       "3                                              142.5       \n",
       "4                                              132.4       \n",
       "\n",
       "   Fly Ash (component 3)(kg in a m^3 mixture)  \\\n",
       "0                                         0.0   \n",
       "1                                         0.0   \n",
       "2                                         0.0   \n",
       "3                                         0.0   \n",
       "4                                         0.0   \n",
       "\n",
       "   Water  (component 4)(kg in a m^3 mixture)  \\\n",
       "0                                      162.0   \n",
       "1                                      162.0   \n",
       "2                                      228.0   \n",
       "3                                      228.0   \n",
       "4                                      192.0   \n",
       "\n",
       "   Superplasticizer (component 5)(kg in a m^3 mixture)  \\\n",
       "0                                                2.5     \n",
       "1                                                2.5     \n",
       "2                                                0.0     \n",
       "3                                                0.0     \n",
       "4                                                0.0     \n",
       "\n",
       "   Coarse Aggregate  (component 6)(kg in a m^3 mixture)  \\\n",
       "0                                             1040.0      \n",
       "1                                             1055.0      \n",
       "2                                              932.0      \n",
       "3                                              932.0      \n",
       "4                                              978.4      \n",
       "\n",
       "   Fine Aggregate (component 7)(kg in a m^3 mixture)  Age (day)  \\\n",
       "0                                              676.0         28   \n",
       "1                                              676.0         28   \n",
       "2                                              594.0        270   \n",
       "3                                              594.0        365   \n",
       "4                                              825.5        360   \n",
       "\n",
       "   Concrete compressive strength(MPa, megapascals)   \n",
       "0                                         79.986111  \n",
       "1                                         61.887366  \n",
       "2                                         40.269535  \n",
       "3                                         41.052780  \n",
       "4                                         44.296075  "
      ]
     },
     "execution_count": 9,
     "metadata": {},
     "output_type": "execute_result"
    }
   ],
   "source": [
    "df.head()"
   ]
  },
  {
   "cell_type": "code",
   "execution_count": null,
   "metadata": {
    "colab": {
     "base_uri": "https://localhost:8080/"
    },
    "id": "OH6AAzLdtaPc",
    "outputId": "5c7b6de4-40a4-4247-f979-7c57563a1a9c"
   },
   "outputs": [
    {
     "name": "stdout",
     "output_type": "stream",
     "text": [
      "<class 'pandas.core.frame.DataFrame'>\n",
      "RangeIndex: 1030 entries, 0 to 1029\n",
      "Data columns (total 9 columns):\n",
      " #   Column                                                 Non-Null Count  Dtype  \n",
      "---  ------                                                 --------------  -----  \n",
      " 0   Cement (component 1)(kg in a m^3 mixture)              1030 non-null   float64\n",
      " 1   Blast Furnace Slag (component 2)(kg in a m^3 mixture)  1030 non-null   float64\n",
      " 2   Fly Ash (component 3)(kg in a m^3 mixture)             1030 non-null   float64\n",
      " 3   Water  (component 4)(kg in a m^3 mixture)              1030 non-null   float64\n",
      " 4   Superplasticizer (component 5)(kg in a m^3 mixture)    1030 non-null   float64\n",
      " 5   Coarse Aggregate  (component 6)(kg in a m^3 mixture)   1030 non-null   float64\n",
      " 6   Fine Aggregate (component 7)(kg in a m^3 mixture)      1030 non-null   float64\n",
      " 7   Age (day)                                              1030 non-null   int64  \n",
      " 8   Concrete compressive strength(MPa, megapascals)        1030 non-null   float64\n",
      "dtypes: float64(8), int64(1)\n",
      "memory usage: 72.5 KB\n"
     ]
    }
   ],
   "source": [
    "df.info()"
   ]
  },
  {
   "cell_type": "code",
   "execution_count": null,
   "metadata": {
    "colab": {
     "base_uri": "https://localhost:8080/",
     "height": 414
    },
    "id": "p-5gLGiftiNW",
    "outputId": "d2b703ca-c440-4332-f967-cc5fa29a4907"
   },
   "outputs": [
    {
     "data": {
      "text/html": [
       "\n",
       "  <div id=\"df-0c0a087e-3b0e-4e74-b1a0-72bf0710f86f\">\n",
       "    <div class=\"colab-df-container\">\n",
       "      <div>\n",
       "<style scoped>\n",
       "    .dataframe tbody tr th:only-of-type {\n",
       "        vertical-align: middle;\n",
       "    }\n",
       "\n",
       "    .dataframe tbody tr th {\n",
       "        vertical-align: top;\n",
       "    }\n",
       "\n",
       "    .dataframe thead th {\n",
       "        text-align: right;\n",
       "    }\n",
       "</style>\n",
       "<table border=\"1\" class=\"dataframe\">\n",
       "  <thead>\n",
       "    <tr style=\"text-align: right;\">\n",
       "      <th></th>\n",
       "      <th>Cement (component 1)(kg in a m^3 mixture)</th>\n",
       "      <th>Blast Furnace Slag (component 2)(kg in a m^3 mixture)</th>\n",
       "      <th>Fly Ash (component 3)(kg in a m^3 mixture)</th>\n",
       "      <th>Water  (component 4)(kg in a m^3 mixture)</th>\n",
       "      <th>Superplasticizer (component 5)(kg in a m^3 mixture)</th>\n",
       "      <th>Coarse Aggregate  (component 6)(kg in a m^3 mixture)</th>\n",
       "      <th>Fine Aggregate (component 7)(kg in a m^3 mixture)</th>\n",
       "      <th>Age (day)</th>\n",
       "      <th>Concrete compressive strength(MPa, megapascals)</th>\n",
       "    </tr>\n",
       "  </thead>\n",
       "  <tbody>\n",
       "    <tr>\n",
       "      <th>count</th>\n",
       "      <td>1030.000000</td>\n",
       "      <td>1030.000000</td>\n",
       "      <td>1030.000000</td>\n",
       "      <td>1030.000000</td>\n",
       "      <td>1030.000000</td>\n",
       "      <td>1030.000000</td>\n",
       "      <td>1030.000000</td>\n",
       "      <td>1030.000000</td>\n",
       "      <td>1030.000000</td>\n",
       "    </tr>\n",
       "    <tr>\n",
       "      <th>mean</th>\n",
       "      <td>281.165631</td>\n",
       "      <td>73.895485</td>\n",
       "      <td>54.187136</td>\n",
       "      <td>181.566359</td>\n",
       "      <td>6.203112</td>\n",
       "      <td>972.918592</td>\n",
       "      <td>773.578883</td>\n",
       "      <td>45.662136</td>\n",
       "      <td>35.817836</td>\n",
       "    </tr>\n",
       "    <tr>\n",
       "      <th>std</th>\n",
       "      <td>104.507142</td>\n",
       "      <td>86.279104</td>\n",
       "      <td>63.996469</td>\n",
       "      <td>21.355567</td>\n",
       "      <td>5.973492</td>\n",
       "      <td>77.753818</td>\n",
       "      <td>80.175427</td>\n",
       "      <td>63.169912</td>\n",
       "      <td>16.705679</td>\n",
       "    </tr>\n",
       "    <tr>\n",
       "      <th>min</th>\n",
       "      <td>102.000000</td>\n",
       "      <td>0.000000</td>\n",
       "      <td>0.000000</td>\n",
       "      <td>121.750000</td>\n",
       "      <td>0.000000</td>\n",
       "      <td>801.000000</td>\n",
       "      <td>594.000000</td>\n",
       "      <td>1.000000</td>\n",
       "      <td>2.331808</td>\n",
       "    </tr>\n",
       "    <tr>\n",
       "      <th>25%</th>\n",
       "      <td>192.375000</td>\n",
       "      <td>0.000000</td>\n",
       "      <td>0.000000</td>\n",
       "      <td>164.900000</td>\n",
       "      <td>0.000000</td>\n",
       "      <td>932.000000</td>\n",
       "      <td>730.950000</td>\n",
       "      <td>7.000000</td>\n",
       "      <td>23.707115</td>\n",
       "    </tr>\n",
       "    <tr>\n",
       "      <th>50%</th>\n",
       "      <td>272.900000</td>\n",
       "      <td>22.000000</td>\n",
       "      <td>0.000000</td>\n",
       "      <td>185.000000</td>\n",
       "      <td>6.350000</td>\n",
       "      <td>968.000000</td>\n",
       "      <td>779.510000</td>\n",
       "      <td>28.000000</td>\n",
       "      <td>34.442774</td>\n",
       "    </tr>\n",
       "    <tr>\n",
       "      <th>75%</th>\n",
       "      <td>350.000000</td>\n",
       "      <td>142.950000</td>\n",
       "      <td>118.270000</td>\n",
       "      <td>192.000000</td>\n",
       "      <td>10.160000</td>\n",
       "      <td>1029.400000</td>\n",
       "      <td>824.000000</td>\n",
       "      <td>56.000000</td>\n",
       "      <td>46.136287</td>\n",
       "    </tr>\n",
       "    <tr>\n",
       "      <th>max</th>\n",
       "      <td>540.000000</td>\n",
       "      <td>359.400000</td>\n",
       "      <td>200.100000</td>\n",
       "      <td>247.000000</td>\n",
       "      <td>32.200000</td>\n",
       "      <td>1145.000000</td>\n",
       "      <td>992.600000</td>\n",
       "      <td>365.000000</td>\n",
       "      <td>82.599225</td>\n",
       "    </tr>\n",
       "  </tbody>\n",
       "</table>\n",
       "</div>\n",
       "      <button class=\"colab-df-convert\" onclick=\"convertToInteractive('df-0c0a087e-3b0e-4e74-b1a0-72bf0710f86f')\"\n",
       "              title=\"Convert this dataframe to an interactive table.\"\n",
       "              style=\"display:none;\">\n",
       "        \n",
       "  <svg xmlns=\"http://www.w3.org/2000/svg\" height=\"24px\"viewBox=\"0 0 24 24\"\n",
       "       width=\"24px\">\n",
       "    <path d=\"M0 0h24v24H0V0z\" fill=\"none\"/>\n",
       "    <path d=\"M18.56 5.44l.94 2.06.94-2.06 2.06-.94-2.06-.94-.94-2.06-.94 2.06-2.06.94zm-11 1L8.5 8.5l.94-2.06 2.06-.94-2.06-.94L8.5 2.5l-.94 2.06-2.06.94zm10 10l.94 2.06.94-2.06 2.06-.94-2.06-.94-.94-2.06-.94 2.06-2.06.94z\"/><path d=\"M17.41 7.96l-1.37-1.37c-.4-.4-.92-.59-1.43-.59-.52 0-1.04.2-1.43.59L10.3 9.45l-7.72 7.72c-.78.78-.78 2.05 0 2.83L4 21.41c.39.39.9.59 1.41.59.51 0 1.02-.2 1.41-.59l7.78-7.78 2.81-2.81c.8-.78.8-2.07 0-2.86zM5.41 20L4 18.59l7.72-7.72 1.47 1.35L5.41 20z\"/>\n",
       "  </svg>\n",
       "      </button>\n",
       "      \n",
       "  <style>\n",
       "    .colab-df-container {\n",
       "      display:flex;\n",
       "      flex-wrap:wrap;\n",
       "      gap: 12px;\n",
       "    }\n",
       "\n",
       "    .colab-df-convert {\n",
       "      background-color: #E8F0FE;\n",
       "      border: none;\n",
       "      border-radius: 50%;\n",
       "      cursor: pointer;\n",
       "      display: none;\n",
       "      fill: #1967D2;\n",
       "      height: 32px;\n",
       "      padding: 0 0 0 0;\n",
       "      width: 32px;\n",
       "    }\n",
       "\n",
       "    .colab-df-convert:hover {\n",
       "      background-color: #E2EBFA;\n",
       "      box-shadow: 0px 1px 2px rgba(60, 64, 67, 0.3), 0px 1px 3px 1px rgba(60, 64, 67, 0.15);\n",
       "      fill: #174EA6;\n",
       "    }\n",
       "\n",
       "    [theme=dark] .colab-df-convert {\n",
       "      background-color: #3B4455;\n",
       "      fill: #D2E3FC;\n",
       "    }\n",
       "\n",
       "    [theme=dark] .colab-df-convert:hover {\n",
       "      background-color: #434B5C;\n",
       "      box-shadow: 0px 1px 3px 1px rgba(0, 0, 0, 0.15);\n",
       "      filter: drop-shadow(0px 1px 2px rgba(0, 0, 0, 0.3));\n",
       "      fill: #FFFFFF;\n",
       "    }\n",
       "  </style>\n",
       "\n",
       "      <script>\n",
       "        const buttonEl =\n",
       "          document.querySelector('#df-0c0a087e-3b0e-4e74-b1a0-72bf0710f86f button.colab-df-convert');\n",
       "        buttonEl.style.display =\n",
       "          google.colab.kernel.accessAllowed ? 'block' : 'none';\n",
       "\n",
       "        async function convertToInteractive(key) {\n",
       "          const element = document.querySelector('#df-0c0a087e-3b0e-4e74-b1a0-72bf0710f86f');\n",
       "          const dataTable =\n",
       "            await google.colab.kernel.invokeFunction('convertToInteractive',\n",
       "                                                     [key], {});\n",
       "          if (!dataTable) return;\n",
       "\n",
       "          const docLinkHtml = 'Like what you see? Visit the ' +\n",
       "            '<a target=\"_blank\" href=https://colab.research.google.com/notebooks/data_table.ipynb>data table notebook</a>'\n",
       "            + ' to learn more about interactive tables.';\n",
       "          element.innerHTML = '';\n",
       "          dataTable['output_type'] = 'display_data';\n",
       "          await google.colab.output.renderOutput(dataTable, element);\n",
       "          const docLink = document.createElement('div');\n",
       "          docLink.innerHTML = docLinkHtml;\n",
       "          element.appendChild(docLink);\n",
       "        }\n",
       "      </script>\n",
       "    </div>\n",
       "  </div>\n",
       "  "
      ],
      "text/plain": [
       "       Cement (component 1)(kg in a m^3 mixture)  \\\n",
       "count                                1030.000000   \n",
       "mean                                  281.165631   \n",
       "std                                   104.507142   \n",
       "min                                   102.000000   \n",
       "25%                                   192.375000   \n",
       "50%                                   272.900000   \n",
       "75%                                   350.000000   \n",
       "max                                   540.000000   \n",
       "\n",
       "       Blast Furnace Slag (component 2)(kg in a m^3 mixture)  \\\n",
       "count                                        1030.000000       \n",
       "mean                                           73.895485       \n",
       "std                                            86.279104       \n",
       "min                                             0.000000       \n",
       "25%                                             0.000000       \n",
       "50%                                            22.000000       \n",
       "75%                                           142.950000       \n",
       "max                                           359.400000       \n",
       "\n",
       "       Fly Ash (component 3)(kg in a m^3 mixture)  \\\n",
       "count                                 1030.000000   \n",
       "mean                                    54.187136   \n",
       "std                                     63.996469   \n",
       "min                                      0.000000   \n",
       "25%                                      0.000000   \n",
       "50%                                      0.000000   \n",
       "75%                                    118.270000   \n",
       "max                                    200.100000   \n",
       "\n",
       "       Water  (component 4)(kg in a m^3 mixture)  \\\n",
       "count                                1030.000000   \n",
       "mean                                  181.566359   \n",
       "std                                    21.355567   \n",
       "min                                   121.750000   \n",
       "25%                                   164.900000   \n",
       "50%                                   185.000000   \n",
       "75%                                   192.000000   \n",
       "max                                   247.000000   \n",
       "\n",
       "       Superplasticizer (component 5)(kg in a m^3 mixture)  \\\n",
       "count                                        1030.000000     \n",
       "mean                                            6.203112     \n",
       "std                                             5.973492     \n",
       "min                                             0.000000     \n",
       "25%                                             0.000000     \n",
       "50%                                             6.350000     \n",
       "75%                                            10.160000     \n",
       "max                                            32.200000     \n",
       "\n",
       "       Coarse Aggregate  (component 6)(kg in a m^3 mixture)  \\\n",
       "count                                        1030.000000      \n",
       "mean                                          972.918592      \n",
       "std                                            77.753818      \n",
       "min                                           801.000000      \n",
       "25%                                           932.000000      \n",
       "50%                                           968.000000      \n",
       "75%                                          1029.400000      \n",
       "max                                          1145.000000      \n",
       "\n",
       "       Fine Aggregate (component 7)(kg in a m^3 mixture)    Age (day)  \\\n",
       "count                                        1030.000000  1030.000000   \n",
       "mean                                          773.578883    45.662136   \n",
       "std                                            80.175427    63.169912   \n",
       "min                                           594.000000     1.000000   \n",
       "25%                                           730.950000     7.000000   \n",
       "50%                                           779.510000    28.000000   \n",
       "75%                                           824.000000    56.000000   \n",
       "max                                           992.600000   365.000000   \n",
       "\n",
       "       Concrete compressive strength(MPa, megapascals)   \n",
       "count                                       1030.000000  \n",
       "mean                                          35.817836  \n",
       "std                                           16.705679  \n",
       "min                                            2.331808  \n",
       "25%                                           23.707115  \n",
       "50%                                           34.442774  \n",
       "75%                                           46.136287  \n",
       "max                                           82.599225  "
      ]
     },
     "execution_count": 11,
     "metadata": {},
     "output_type": "execute_result"
    }
   ],
   "source": [
    "df.describe()"
   ]
  },
  {
   "cell_type": "code",
   "execution_count": null,
   "metadata": {
    "colab": {
     "base_uri": "https://localhost:8080/"
    },
    "id": "m2nKqQvptnpF",
    "outputId": "af172c56-4099-4b84-c0f4-0ba53c372a54"
   },
   "outputs": [
    {
     "data": {
      "text/plain": [
       "Cement (component 1)(kg in a m^3 mixture)                0\n",
       "Blast Furnace Slag (component 2)(kg in a m^3 mixture)    0\n",
       "Fly Ash (component 3)(kg in a m^3 mixture)               0\n",
       "Water  (component 4)(kg in a m^3 mixture)                0\n",
       "Superplasticizer (component 5)(kg in a m^3 mixture)      0\n",
       "Coarse Aggregate  (component 6)(kg in a m^3 mixture)     0\n",
       "Fine Aggregate (component 7)(kg in a m^3 mixture)        0\n",
       "Age (day)                                                0\n",
       "Concrete compressive strength(MPa, megapascals)          0\n",
       "dtype: int64"
      ]
     },
     "execution_count": 12,
     "metadata": {},
     "output_type": "execute_result"
    }
   ],
   "source": [
    "df.isnull().sum()"
   ]
  },
  {
   "cell_type": "markdown",
   "metadata": {
    "id": "7Jrw8WkpEIZQ"
   },
   "source": [
    "**Plotting the Correlation Heat Map**"
   ]
  },
  {
   "cell_type": "markdown",
   "metadata": {
    "id": "uDq_H5cWEpWp"
   },
   "source": [
    "#step no 2\n",
    "# Data pre-processing"
   ]
  },
  {
   "cell_type": "code",
   "execution_count": null,
   "metadata": {
    "id": "xIRmwUhgtuMX"
   },
   "outputs": [],
   "source": [
    "X = df.drop([\"Concrete compressive strength(MPa, megapascals) \"],axis=1)\n",
    "Y = df[\"Concrete compressive strength(MPa, megapascals) \"]"
   ]
  },
  {
   "cell_type": "code",
   "execution_count": null,
   "metadata": {
    "id": "R96SpW46t2q-"
   },
   "outputs": [],
   "source": [
    "from sklearn import metrics\n",
    "from sklearn.model_selection import train_test_split"
   ]
  },
  {
   "cell_type": "markdown",
   "metadata": {
    "id": "43TVaAGwEz-0"
   },
   "source": [
    "**Dividing the Datasets into Train and Test datasets in the ratio 70:30**"
   ]
  },
  {
   "cell_type": "code",
   "execution_count": null,
   "metadata": {
    "id": "DxheDW1zt6-q"
   },
   "outputs": [],
   "source": [
    "X_train, X_test, Y_train, Y_test = train_test_split(X, Y, test_size=0.30, random_state=2)"
   ]
  },
  {
   "cell_type": "code",
   "execution_count": null,
   "metadata": {
    "id": "6AX6CQ44yIFi"
   },
   "outputs": [],
   "source": [
    "from sklearn import metrics"
   ]
  },
  {
   "cell_type": "markdown",
   "metadata": {
    "id": "IVHwg3MIE-tg"
   },
   "source": [
    "**Question-1: Solving the Linear Regression Problem using the Normal Equations method**"
   ]
  },
  {
   "cell_type": "code",
   "execution_count": null,
   "metadata": {
    "id": "oR3rDAUUyIqy"
   },
   "outputs": [],
   "source": [
    "m1 = X_train.shape[0]\n",
    "m2 = X_test.shape[0]"
   ]
  },
  {
   "cell_type": "markdown",
   "metadata": {
    "id": "OO5fPAOzFM23"
   },
   "source": [
    "Adding an Extra Column of 1 to the training and test data sets"
   ]
  },
  {
   "cell_type": "code",
   "execution_count": null,
   "metadata": {
    "id": "VL-m43m3ynGW"
   },
   "outputs": [],
   "source": [
    "X_train = np.append(X_train, np.ones((m1,1)), axis=1)\n",
    "X_test = np.append(X_test, np.ones((m2,1)), axis=1)"
   ]
  },
  {
   "cell_type": "markdown",
   "metadata": {
    "id": "1gEskWnwFcVf"
   },
   "source": [
    "**Finding the Coefficients of Linear Regression by using the Normal Equations method**"
   ]
  },
  {
   "cell_type": "code",
   "execution_count": null,
   "metadata": {
    "id": "txFQ3t7ByoZD"
   },
   "outputs": [],
   "source": [
    "w = np.dot(np.linalg.inv(np.dot(X_train.T, X_train)), np.dot(X_train.T, Y_train))"
   ]
  },
  {
   "cell_type": "markdown",
   "metadata": {
    "id": "MIwcRmLRFr_e"
   },
   "source": [
    "**These are the required 9 coefficient values obtained by using Normal Equations for Linear Regression**"
   ]
  },
  {
   "cell_type": "code",
   "execution_count": null,
   "metadata": {
    "colab": {
     "base_uri": "https://localhost:8080/"
    },
    "id": "YKIyAcNyy-kv",
    "outputId": "85eea630-baad-49a6-c7bd-b34faa5232e6"
   },
   "outputs": [
    {
     "data": {
      "text/plain": [
       "array([ 1.24381236e-01,  1.02625749e-01,  9.26706890e-02, -1.55913391e-01,\n",
       "        2.42508380e-01,  1.60843795e-02,  1.87023631e-02,  1.08063533e-01,\n",
       "       -2.00761517e+01])"
      ]
     },
     "execution_count": 21,
     "metadata": {},
     "output_type": "execute_result"
    }
   ],
   "source": [
    "w"
   ]
  },
  {
   "cell_type": "code",
   "execution_count": null,
   "metadata": {
    "colab": {
     "base_uri": "https://localhost:8080/"
    },
    "id": "RUrz3Ow_02Am",
    "outputId": "cbaed7f5-7702-4a31-f1f4-9549a4bea829"
   },
   "outputs": [
    {
     "data": {
      "text/plain": [
       "(9,)"
      ]
     },
     "execution_count": 22,
     "metadata": {},
     "output_type": "execute_result"
    }
   ],
   "source": [
    "w.shape"
   ]
  },
  {
   "cell_type": "markdown",
   "metadata": {
    "id": "8LBugltxGPy8"
   },
   "source": [
    "**Predicting the Concrete Compressive Strength values by using the obtained coefficients (w) of Normal Equations Method for the Test Dataset**"
   ]
  },
  {
   "cell_type": "code",
   "execution_count": null,
   "metadata": {
    "id": "7hhnw26w4mmY"
   },
   "outputs": [],
   "source": [
    "normal_test_predictions = np.dot(X_test,w)"
   ]
  },
  {
   "cell_type": "code",
   "execution_count": null,
   "metadata": {
    "colab": {
     "base_uri": "https://localhost:8080/"
    },
    "id": "1-wBxSCZ5M0p",
    "outputId": "b9476f7d-2c46-4936-b49c-7175600cab62"
   },
   "outputs": [
    {
     "data": {
      "text/plain": [
       "(309,)"
      ]
     },
     "execution_count": 24,
     "metadata": {},
     "output_type": "execute_result"
    }
   ],
   "source": [
    "normal_test_predictions.shape"
   ]
  },
  {
   "cell_type": "markdown",
   "metadata": {
    "id": "To4uokPlHRPt"
   },
   "source": [
    "**Evaluation using the R-Squared and Mean Squared Error Values for the Test Data**"
   ]
  },
  {
   "cell_type": "code",
   "execution_count": null,
   "metadata": {
    "colab": {
     "base_uri": "https://localhost:8080/"
    },
    "id": "rMBREyvO5jve",
    "outputId": "5bb45345-6ee7-4c1e-dd03-da47d72f6caf"
   },
   "outputs": [
    {
     "data": {
      "text/plain": [
       "0.5917580410437959"
      ]
     },
     "execution_count": 25,
     "metadata": {},
     "output_type": "execute_result"
    }
   ],
   "source": [
    "metrics.r2_score(Y_test,normal_test_predictions)"
   ]
  },
  {
   "cell_type": "code",
   "execution_count": null,
   "metadata": {
    "colab": {
     "base_uri": "https://localhost:8080/"
    },
    "id": "mJuV0xoN51Gf",
    "outputId": "0a9f9580-77c6-49f2-f18b-6bca56ec6ec3"
   },
   "outputs": [
    {
     "data": {
      "text/plain": [
       "108.59934654340952"
      ]
     },
     "execution_count": 26,
     "metadata": {},
     "output_type": "execute_result"
    }
   ],
   "source": [
    "metrics.mean_squared_error(Y_test,normal_test_predictions)"
   ]
  },
  {
   "cell_type": "markdown",
   "metadata": {
    "id": "H-efFILyIBz_"
   },
   "source": [
    "**The R-Squared and Mean-Squared Error values obtained here for the test data are same as the values obtained in the previous homework assignment for the test data.**\n",
    "\n",
    "**Therefore, we can conclude that the evaluation parameters obtained in the previous assignment (model made using Linear Regression from sklearn library) are the same as the evaluation paramerts obtained if Linear Regression is done using the Normal Equations Method (this assignment)**\n",
    "\n",
    "**Finally, the predicted values in the previous assignment and this assignment are the same**"
   ]
  },
  {
   "cell_type": "markdown",
   "metadata": {
    "id": "DMSu8lOKNxuq"
   },
   "source": [
    "**Predicting the Concrete Compressive Strength values by using the obtained coefficients (w) of Normal Equations Method for the Training Dataset**"
   ]
  },
  {
   "cell_type": "code",
   "execution_count": null,
   "metadata": {
    "id": "MHeib60r6EHZ"
   },
   "outputs": [],
   "source": [
    "normal_train_predictions = np.dot(X_train,w)"
   ]
  },
  {
   "cell_type": "markdown",
   "metadata": {
    "id": "QLmYimiTObo4"
   },
   "source": [
    "**Evaluation using the R-Squared and Mean Squared Error Values for the Training Data**"
   ]
  },
  {
   "cell_type": "code",
   "execution_count": null,
   "metadata": {
    "colab": {
     "base_uri": "https://localhost:8080/"
    },
    "id": "40piVq_47iab",
    "outputId": "99adda32-8857-4ef7-baa8-cf69e4f77380"
   },
   "outputs": [
    {
     "data": {
      "text/plain": [
       "0.6228179353208059"
      ]
     },
     "execution_count": 28,
     "metadata": {},
     "output_type": "execute_result"
    }
   ],
   "source": [
    "metrics.r2_score(Y_train,normal_train_predictions)"
   ]
  },
  {
   "cell_type": "code",
   "execution_count": null,
   "metadata": {
    "colab": {
     "base_uri": "https://localhost:8080/"
    },
    "id": "tVbtdgSa7orJ",
    "outputId": "2e9db726-c536-4d67-b3f2-bd8bc7a48ab1"
   },
   "outputs": [
    {
     "data": {
      "text/plain": [
       "107.20206614023294"
      ]
     },
     "execution_count": 29,
     "metadata": {},
     "output_type": "execute_result"
    }
   ],
   "source": [
    "metrics.mean_squared_error(Y_train,normal_train_predictions)"
   ]
  },
  {
   "cell_type": "markdown",
   "metadata": {
    "id": "YTbzmJ3TOKpD"
   },
   "source": [
    "**The R-Squared and Mean-Squared Error values obtained here for the training data are same as the values obtained in the previous homework assignment for the training dataset.**\n",
    "\n",
    "**Therefore, we can conclude that the evaluation parameters obtained in the previous assignment (model made using Linear Regression from sklearn library) are the same as the evaluation paramerts obtained if Linear Regression is done using the Normal Equations Method (this assignment)**\n",
    "\n",
    "**Finally, the predicted values in the previous assignment and this assignment are the same**"
   ]
  },
  {
   "cell_type": "markdown",
   "metadata": {
    "id": "09cXjKwXTbTb"
   },
   "source": [
    "**Question 2:**\n",
    "\n",
    "**Introduction of L2 Regularization into the Linear Regression Model**\n",
    "\n",
    "**Various Values of Regularization parameters are chosen below**"
   ]
  },
  {
   "cell_type": "code",
   "execution_count": null,
   "metadata": {
    "id": "4K31OdT17vMZ"
   },
   "outputs": [],
   "source": [
    "reg_param = [1e-7,1e-5,0.001,0.01,0.1,1,10,100,1000]\n",
    "n = len(X_train[0])"
   ]
  },
  {
   "cell_type": "markdown",
   "metadata": {
    "id": "eid1AqrPRIBy"
   },
   "source": [
    "![image.png](data:image/png;base64,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)"
   ]
  },
  {
   "cell_type": "code",
   "execution_count": null,
   "metadata": {
    "id": "-slvjAD99aXU"
   },
   "outputs": [],
   "source": [
    "j = 0\n",
    "w_reg = []\n",
    "for i in reg_param:\n",
    "  mat1 = np.dot(X_train.T,X_train)\n",
    "  mat2 = i*(np.identity(n))\n",
    "  w_reg.append(np.dot(np.linalg.inv(mat1+mat2),np.dot(X_train.T,Y_train)))\n",
    "  j = j+1"
   ]
  },
  {
   "cell_type": "markdown",
   "metadata": {
    "id": "oJxgw5iBUn-5"
   },
   "source": [
    "**Prediction using the L2 Regularization model**"
   ]
  },
  {
   "cell_type": "code",
   "execution_count": null,
   "metadata": {
    "id": "2wgE20Jt-sYe"
   },
   "outputs": [],
   "source": [
    "reg_test_predictions = []\n",
    "reg_train_predictions = []\n",
    "for j in range(9):\n",
    "  reg_test_predictions.append(np.dot(X_test,w_reg[j]))\n",
    "  reg_train_predictions.append(np.dot(X_train,w_reg[j]))"
   ]
  },
  {
   "cell_type": "markdown",
   "metadata": {
    "id": "_xgVLsW3U0na"
   },
   "source": [
    "**R-Squared and Mean-Squared error values for various regularization parameters are shown below**"
   ]
  },
  {
   "cell_type": "code",
   "execution_count": null,
   "metadata": {
    "colab": {
     "base_uri": "https://localhost:8080/"
    },
    "id": "qiitGrqf_Jk9",
    "outputId": "69a01612-b390-4102-ead0-a6b3207e684a"
   },
   "outputs": [
    {
     "name": "stdout",
     "output_type": "stream",
     "text": [
      "Regularization parameter1e-07 ,R2-Squared Value for the test data 0.5917580406464762 MSE value  108.59934664910335\n",
      "Regularization parameter1e-05 ,R2-Squared Value for the test data 0.591758001302374 MSE value  108.59935711530777\n",
      "Regularization parameter0.001 ,R2-Squared Value for the test data 0.5917540812034398 MSE value  108.6003999287014\n",
      "Regularization parameter0.01 ,R2-Squared Value for the test data 0.5917198066988227 MSE value  108.60951753340333\n",
      "Regularization parameter0.1 ,R2-Squared Value for the test data 0.5914948082980953 MSE value  108.6693709579626\n",
      "Regularization parameter1 ,R2-Squared Value for the test data 0.5911803663618154 MSE value  108.75301789345437\n",
      "Regularization parameter10 ,R2-Squared Value for the test data 0.5911046788217105 MSE value  108.77315207421788\n",
      "Regularization parameter100 ,R2-Squared Value for the test data 0.5910707304677898 MSE value  108.7821829172538\n",
      "Regularization parameter1000 ,R2-Squared Value for the test data 0.5908228124837205 MSE value  108.84813334316087\n"
     ]
    }
   ],
   "source": [
    "for j in range(9):\n",
    "  print(\"Regularization parameter\" +str(reg_param[j])+\" ,R2-Squared Value for the test data \"+str(metrics.r2_score(Y_test,reg_test_predictions[j]))+\" MSE value  \"+str(metrics.mean_squared_error(Y_test,reg_test_predictions[j])))"
   ]
  },
  {
   "cell_type": "code",
   "execution_count": null,
   "metadata": {
    "colab": {
     "base_uri": "https://localhost:8080/"
    },
    "id": "-SO_7BV1SwMP",
    "outputId": "d5526fdd-c657-4e10-865d-9c2ac208ff96"
   },
   "outputs": [
    {
     "name": "stdout",
     "output_type": "stream",
     "text": [
      "Regularization Parameter1e-07 , R2-Squared Value for the training data 0.6228179353208056 MSE value 107.202066140233\n",
      "Regularization Parameter1e-05 , R2-Squared Value for the training data 0.6228179353188716 MSE value 107.20206614078269\n",
      "Regularization Parameter0.001 , R2-Squared Value for the training data 0.6228179163496989 MSE value 107.20207153216977\n",
      "Regularization Parameter0.01 , R2-Squared Value for the training data 0.6228163316848877 MSE value 107.2025219229964\n",
      "Regularization Parameter0.1 , R2-Squared Value for the training data 0.6227687663442459 MSE value 107.21604086589151\n",
      "Regularization Parameter1 , R2-Squared Value for the training data 0.6226531700602267 MSE value 107.24889545163524\n",
      "Regularization Parameter10 , R2-Squared Value for the training data 0.6226219674098307 MSE value 107.25776381761746\n",
      "Regularization Parameter100 , R2-Squared Value for the training data 0.622618206623266 MSE value 107.2588327021902\n",
      "Regularization Parameter1000 , R2-Squared Value for the training data 0.6226041187827939 MSE value 107.26283672504145\n"
     ]
    }
   ],
   "source": [
    "for j in range(9):\n",
    "  print(\"Regularization Parameter\"+str(reg_param[j])+\" , R2-Squared Value for the training data \"+str(metrics.r2_score(Y_train,reg_train_predictions[j]))+\" MSE value \"+str(metrics.mean_squared_error(Y_train,reg_train_predictions[j])))"
   ]
  },
  {
   "cell_type": "markdown",
   "metadata": {
    "id": "DBVd63HvVBy8"
   },
   "source": [
    "**Question 2 (a) and (b): As the Regularization Parameter value increases, the R-Squared value decreases and the Mean-Squared error value increases which implies the Quality of the model decreases.**\n",
    "\n",
    "**Finally, we can say that as the Regularization Parameter value increases, then the quality of the model decreases.**"
   ]
  },
  {
   "cell_type": "markdown",
   "metadata": {
    "id": "K0L_ymGHWMoA"
   },
   "source": [
    "**Question 3: Quadratic Model**"
   ]
  },
  {
   "cell_type": "markdown",
   "metadata": {
    "id": "dCrfMXq_2wdN"
   },
   "source": [
    "**Question 3(a): Input vector now has 45 features in Quadratic model**\n",
    "\n",
    "**Explanation: 10C2-1 = 44 features in Qudratic Model**"
   ]
  },
  {
   "cell_type": "markdown",
   "metadata": {
    "id": "8SU96eJUW1-f"
   },
   "source": [
    "**Question 3(b): The Program is written for the Quadratic Model below**"
   ]
  },
  {
   "cell_type": "code",
   "execution_count": null,
   "metadata": {
    "id": "n0P_pPjp_Wqj"
   },
   "outputs": [],
   "source": [
    "X_t = []\n",
    "for m in range(len(X_train)):\n",
    "  k = [1]\n",
    "  for i in range(0,8):\n",
    "    j = i\n",
    "    while(j<=8):\n",
    "      k.append((X_train[m][i])*(X_train[m][j]))\n",
    "      j = j+1\n",
    "  X_t.append(k)\n",
    "X_t = np.array(X_t)"
   ]
  },
  {
   "cell_type": "markdown",
   "metadata": {
    "id": "ALbs0gz5XCIZ"
   },
   "source": [
    "**Here, the New Training dataset has 45 Features in Quadratic model**\n",
    "\n",
    "y= w0+w1.x1+w2.x2+.......w8.x8+w9.(x1)^2.........+w17.(x8)^2+NC2 (all cross terms)"
   ]
  },
  {
   "cell_type": "code",
   "execution_count": null,
   "metadata": {
    "colab": {
     "base_uri": "https://localhost:8080/"
    },
    "id": "HAWbzEjl9Sz8",
    "outputId": "44b1cdd6-744b-4844-c25b-099b744012fe"
   },
   "outputs": [
    {
     "data": {
      "text/plain": [
       "(721, 45)"
      ]
     },
     "execution_count": 110,
     "metadata": {},
     "output_type": "execute_result"
    }
   ],
   "source": [
    "X_t.shape"
   ]
  },
  {
   "cell_type": "markdown",
   "metadata": {
    "id": "vDa-VTDKXKSD"
   },
   "source": [
    "**Modifying the Test Dataset**"
   ]
  },
  {
   "cell_type": "code",
   "execution_count": null,
   "metadata": {
    "id": "B528Hm5I-hFh"
   },
   "outputs": [],
   "source": [
    "X_te = []\n",
    "for m in range(len(X_test)):\n",
    "  k = [1]\n",
    "  for i in range(0,8):\n",
    "    j = i\n",
    "    while(j<=8):\n",
    "      k.append((X_test[m][i])*(X_test[m][j]))\n",
    "      j = j+1\n",
    "  X_te.append(k)\n",
    "X_te = np.array(X_te)"
   ]
  },
  {
   "cell_type": "code",
   "execution_count": null,
   "metadata": {
    "colab": {
     "base_uri": "https://localhost:8080/"
    },
    "id": "WXFwjZeEBf-j",
    "outputId": "3b9fadf3-62ee-4c34-f2ca-8100b960d2bf"
   },
   "outputs": [
    {
     "data": {
      "text/plain": [
       "(309, 45)"
      ]
     },
     "execution_count": 112,
     "metadata": {},
     "output_type": "execute_result"
    }
   ],
   "source": [
    "X_te.shape"
   ]
  },
  {
   "cell_type": "markdown",
   "metadata": {
    "id": "hsyzH8m2XR-7"
   },
   "source": [
    "**Obtaining Coefficients (w_quad) for the Quadratic model**"
   ]
  },
  {
   "cell_type": "code",
   "execution_count": null,
   "metadata": {
    "id": "FUvIKUNdBhmJ"
   },
   "outputs": [],
   "source": [
    "w_quad = np.dot(np.linalg.inv(np.dot(X_t.T, X_t)), np.dot(X_t.T, Y_train))"
   ]
  },
  {
   "cell_type": "code",
   "execution_count": null,
   "metadata": {
    "colab": {
     "base_uri": "https://localhost:8080/"
    },
    "id": "wIgWhPmWB_Zs",
    "outputId": "4eaa6a46-febe-4c71-9d97-7f53f48d1104"
   },
   "outputs": [
    {
     "data": {
      "text/plain": [
       "(45,)"
      ]
     },
     "execution_count": 114,
     "metadata": {},
     "output_type": "execute_result"
    }
   ],
   "source": [
    "w_quad.shape"
   ]
  },
  {
   "cell_type": "markdown",
   "metadata": {
    "id": "Bj0OIIAYXd4r"
   },
   "source": [
    "**Question 3(c): Predicting the results for the Quadratic Model**"
   ]
  },
  {
   "cell_type": "code",
   "execution_count": null,
   "metadata": {
    "id": "VaoHRNlECClL"
   },
   "outputs": [],
   "source": [
    "quad_test_pred = np.dot(X_te,w_quad)"
   ]
  },
  {
   "cell_type": "code",
   "execution_count": null,
   "metadata": {
    "colab": {
     "base_uri": "https://localhost:8080/"
    },
    "id": "nnfTs5l-CQ9Y",
    "outputId": "344a9649-5cd8-4359-bad0-e4fc5c943bb6"
   },
   "outputs": [
    {
     "data": {
      "text/plain": [
       "0.7875737889662844"
      ]
     },
     "execution_count": 116,
     "metadata": {},
     "output_type": "execute_result"
    }
   ],
   "source": [
    "metrics.r2_score(Y_test,quad_test_pred)"
   ]
  },
  {
   "cell_type": "code",
   "execution_count": null,
   "metadata": {
    "colab": {
     "base_uri": "https://localhost:8080/"
    },
    "id": "2p4dS7UqXsK0",
    "outputId": "805f16b3-8a19-4f6c-9011-3c3c8c8a187e"
   },
   "outputs": [
    {
     "data": {
      "text/plain": [
       "56.509006976984416"
      ]
     },
     "execution_count": 117,
     "metadata": {},
     "output_type": "execute_result"
    }
   ],
   "source": [
    "metrics.mean_squared_error(Y_test,quad_test_pred)"
   ]
  },
  {
   "cell_type": "code",
   "execution_count": null,
   "metadata": {
    "id": "3yt3rwaRCYAP"
   },
   "outputs": [],
   "source": [
    "quad_train_pred = np.dot(X_t,w_quad)"
   ]
  },
  {
   "cell_type": "code",
   "execution_count": null,
   "metadata": {
    "colab": {
     "base_uri": "https://localhost:8080/"
    },
    "id": "UwnqsxYNC3Ox",
    "outputId": "ce885b70-4296-4802-d2e1-81f90f2084d7"
   },
   "outputs": [
    {
     "data": {
      "text/plain": [
       "0.808153561785769"
      ]
     },
     "execution_count": 119,
     "metadata": {},
     "output_type": "execute_result"
    }
   ],
   "source": [
    "metrics.r2_score(Y_train,quad_train_pred)"
   ]
  },
  {
   "cell_type": "code",
   "execution_count": null,
   "metadata": {
    "colab": {
     "base_uri": "https://localhost:8080/"
    },
    "id": "Mf6nRZ1OXyc4",
    "outputId": "828983a6-194e-4ec3-a799-c9c5a214b215"
   },
   "outputs": [
    {
     "data": {
      "text/plain": [
       "54.5262791742297"
      ]
     },
     "execution_count": 120,
     "metadata": {},
     "output_type": "execute_result"
    }
   ],
   "source": [
    "metrics.mean_squared_error(Y_train,quad_train_pred)"
   ]
  },
  {
   "cell_type": "markdown",
   "metadata": {
    "id": "9t-AvY98X5VU"
   },
   "source": [
    "**Question 3(c): From the above Evaluation we can see that the R-Squred value is increased and the Mean-Squared error value is decreased drastically which implies that the model has improved drastically**\n",
    "\n",
    "**Finally, Quadratic Model is better rthan the Linear model in this case**"
   ]
  },
  {
   "cell_type": "markdown",
   "metadata": {
    "id": "OFRX466aYaIt"
   },
   "source": [
    "**Question 3(d): If a Cubic model was used, then we would need 165 Features (Input Vector has 165 columns)**\n",
    "\n",
    "**Reason- 11C3-1 = 164 Features**"
   ]
  }
 ],
 "metadata": {
  "colab": {
   "provenance": []
  },
  "kernelspec": {
   "display_name": "Python 3 (ipykernel)",
   "language": "python",
   "name": "python3"
  },
  "language_info": {
   "codemirror_mode": {
    "name": "ipython",
    "version": 3
   },
   "file_extension": ".py",
   "mimetype": "text/x-python",
   "name": "python",
   "nbconvert_exporter": "python",
   "pygments_lexer": "ipython3",
   "version": "3.9.13"
  }
 },
 "nbformat": 4,
 "nbformat_minor": 1
}
